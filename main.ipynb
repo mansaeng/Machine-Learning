# 필요한 모듈 Importing
import matplotlib.pyplot as plt
import pandas as pd
from sklearn import (
    ensemble,
    preprocessing,
    tree,
)
from sklearn.metrics import (
    auc,
    confusion_matrix,
    roc_auc_score,
    roc_curve,
)
from sklearn.model_selection import (
    train_test_split,
    StratifiedKFold,
)
from yellowbrick.classifier import (
    ConfusionMatrix,
    ROCAUC,
)
from yellowbrick.model_selection import (
    LearningCurve,
)

# 판다스는 데이터를 가공 처리하는 모듈이다.
# 사이킷런은 예측 모델링을 제공한다.
# 옐로우브릭은 모델 검증을 위한 시각화 라이브러리이다.


# from ~ import ~ 형식으로 Importing 할 때 (
#   이렇게,
#   Pythonic한 방법을,
#   이제 알았다.
# )
