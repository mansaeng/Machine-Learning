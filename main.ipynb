{
  "nbformat": 4,
  "nbformat_minor": 0,
  "metadata": {
    "colab": {
      "name": "main.ipynb",
      "provenance": [],
      "collapsed_sections": [],
      "include_colab_link": true
    },
    "kernelspec": {
      "name": "python3",
      "display_name": "Python 3"
    },
    "language_info": {
      "name": "python"
    }
  },
  "cells": [
    {
      "cell_type": "markdown",
      "metadata": {
        "id": "view-in-github",
        "colab_type": "text"
      },
      "source": [
        "<a href=\"https://colab.research.google.com/github/mansaeng/Machine-Learning/blob/main/main.ipynb\" target=\"_parent\"><img src=\"https://colab.research.google.com/assets/colab-badge.svg\" alt=\"Open In Colab\"/></a>"
      ]
    },
    {
      "cell_type": "code",
      "metadata": {
        "id": "dS6PwBs0fsST",
        "colab": {
          "base_uri": "https://localhost:8080/"
        },
        "outputId": "2d1dc06f-9691-4cbb-b70e-8c5d0f8429d9"
      },
      "source": [
        "# 필요한 모듈 Importing\n",
        "import matplotlib.pyplot as plt\n",
        "import pandas as pd\n",
        "from sklearn import (\n",
        "    ensemble,\n",
        "    preprocessing,\n",
        "    tree,\n",
        ")\n",
        "from sklearn.metrics import (\n",
        "    auc,\n",
        "    confusion_matrix,\n",
        "    roc_auc_score,\n",
        "    roc_curve,\n",
        ")\n",
        "from sklearn.model_selection import (\n",
        "    train_test_split,\n",
        "    StratifiedKFold,\n",
        ")\n",
        "from yellowbrick.classifier import (\n",
        "    ConfusionMatrix,\n",
        "    ROCAUC,\n",
        ")\n",
        "from yellowbrick.model_selection import (\n",
        "    LearningCurve,\n",
        ")\n",
        "\n",
        "# 판다스는 데이터를 가공 처리하는 모듈이다.\n",
        "# 사이킷런은 예측 모델링을 제공한다.\n",
        "# 옐로우브릭은 모델 검증을 위한 시각화 라이브러리이다.\n",
        "\n",
        "\n",
        "# from ~ import ~ 형식으로 Importing 할 때 (\n",
        "#   이렇게,\n",
        "#   Pythonic한 방법을,\n",
        "#   이제 알았다.\n",
        "# )"
      ],
      "execution_count": null,
      "outputs": [
        {
          "output_type": "stream",
          "text": [
            "/usr/local/lib/python3.7/dist-packages/sklearn/utils/deprecation.py:144: FutureWarning: The sklearn.metrics.classification module is  deprecated in version 0.22 and will be removed in version 0.24. The corresponding classes / functions should instead be imported from sklearn.metrics. Anything that cannot be imported from sklearn.metrics is now part of the private API.\n",
            "  warnings.warn(message, FutureWarning)\n"
          ],
          "name": "stderr"
        }
      ]
    },
    {
      "cell_type": "markdown",
      "metadata": {
        "id": "MsTIEOQ5smA5"
      },
      "source": [
        "# *from pandas import **\n",
        "\n",
        "별표를 사용하여 라이브러리를 불러들이면\n",
        "명시적이지 않으므로 코드 이해가 어려워진다.\n",
        "지정해서 불러오는 습관을 들이자."
      ]
    },
    {
      "cell_type": "code",
      "metadata": {
        "id": "xGBaq5VFjb9W"
      },
      "source": [
        "# 머신러닝에 필요한 데이터 가져오기\n",
        "url = (\n",
        "    \"https://biostat.app.vumc.org/wiki/pub/Main/DataSets/titanic3.xls\"\n",
        ")\n",
        "df = pd.read_excel(url) # 판다스의 read_excel은 파일 뿐만이 아니라 url의 데이터도 가져올 수 있다.\n",
        "orig_df = df"
      ],
      "execution_count": null,
      "outputs": []
    },
    {
      "cell_type": "markdown",
      "metadata": {
        "id": "vAaN5WBetaz-"
      },
      "source": [
        "**주어진 데이터 :**\n",
        "> 타이타닉호 탑승객 데이터\n",
        "\n",
        "**목표 :**\n",
        "> 해당 탑승객이 생존했는지 사망했는지 예측(분류)"
      ]
    },
    {
      "cell_type": "code",
      "metadata": {
        "id": "Qw0VAOC2uYEp",
        "colab": {
          "base_uri": "https://localhost:8080/"
        },
        "outputId": "32c65f9d-572d-4ab2-837c-d5d986c37ad4"
      },
      "source": [
        "# dtypes로 데이터 타입을 확인할 수 있다.\n",
        "# 데이터 타입을 분류할 수 없다고 판단되면 object로 분류된다.\n",
        "df.dtypes"
      ],
      "execution_count": null,
      "outputs": [
        {
          "output_type": "execute_result",
          "data": {
            "text/plain": [
              "pclass         int64\n",
              "survived       int64\n",
              "name          object\n",
              "sex           object\n",
              "age          float64\n",
              "sibsp          int64\n",
              "parch          int64\n",
              "ticket        object\n",
              "fare         float64\n",
              "cabin         object\n",
              "embarked      object\n",
              "boat          object\n",
              "body         float64\n",
              "home.dest     object\n",
              "dtype: object"
            ]
          },
          "metadata": {
            "tags": []
          },
          "execution_count": 3
        }
      ]
    },
    {
      "cell_type": "code",
      "metadata": {
        "id": "cHySkruJtxXm",
        "colab": {
          "base_uri": "https://localhost:8080/"
        },
        "outputId": "10206b09-7d2e-4a8c-8194-380ac49963bd"
      },
      "source": [
        "# .shape로 행과 열의 개수를 알 수 있다.\n",
        "df.shape"
      ],
      "execution_count": null,
      "outputs": [
        {
          "output_type": "execute_result",
          "data": {
            "text/plain": [
              "(1309, 14)"
            ]
          },
          "metadata": {
            "tags": []
          },
          "execution_count": 4
        }
      ]
    },
    {
      "cell_type": "code",
      "metadata": {
        "colab": {
          "base_uri": "https://localhost:8080/",
          "height": 297
        },
        "id": "ui_zT9X6A5ys",
        "outputId": "e14d5ac7-e942-46ca-d554-aa49258c5ba8"
      },
      "source": [
        "# .describe()로 데이터의 통계적 요약을 알 수 있다.\n",
        "# 이것을 이용하면 데이터셋에서 이용해야 할 데이터가 무엇인지 어떻게 이용할 지 대략적으로 알 수 있을 것 같다.\n",
        "# count값을 확인하면 누락된 데이터를 알 수 있다.\n",
        "# min과 max값을 이상치의 유무를 확인할 수 있다.\n",
        "df.describe()"
      ],
      "execution_count": null,
      "outputs": [
        {
          "output_type": "execute_result",
          "data": {
            "text/html": [
              "<div>\n",
              "<style scoped>\n",
              "    .dataframe tbody tr th:only-of-type {\n",
              "        vertical-align: middle;\n",
              "    }\n",
              "\n",
              "    .dataframe tbody tr th {\n",
              "        vertical-align: top;\n",
              "    }\n",
              "\n",
              "    .dataframe thead th {\n",
              "        text-align: right;\n",
              "    }\n",
              "</style>\n",
              "<table border=\"1\" class=\"dataframe\">\n",
              "  <thead>\n",
              "    <tr style=\"text-align: right;\">\n",
              "      <th></th>\n",
              "      <th>pclass</th>\n",
              "      <th>survived</th>\n",
              "      <th>age</th>\n",
              "      <th>sibsp</th>\n",
              "      <th>parch</th>\n",
              "      <th>fare</th>\n",
              "      <th>body</th>\n",
              "    </tr>\n",
              "  </thead>\n",
              "  <tbody>\n",
              "    <tr>\n",
              "      <th>count</th>\n",
              "      <td>1309.000000</td>\n",
              "      <td>1309.000000</td>\n",
              "      <td>1046.000000</td>\n",
              "      <td>1309.000000</td>\n",
              "      <td>1309.000000</td>\n",
              "      <td>1308.000000</td>\n",
              "      <td>121.000000</td>\n",
              "    </tr>\n",
              "    <tr>\n",
              "      <th>mean</th>\n",
              "      <td>2.294882</td>\n",
              "      <td>0.381971</td>\n",
              "      <td>29.881135</td>\n",
              "      <td>0.498854</td>\n",
              "      <td>0.385027</td>\n",
              "      <td>33.295479</td>\n",
              "      <td>160.809917</td>\n",
              "    </tr>\n",
              "    <tr>\n",
              "      <th>std</th>\n",
              "      <td>0.837836</td>\n",
              "      <td>0.486055</td>\n",
              "      <td>14.413500</td>\n",
              "      <td>1.041658</td>\n",
              "      <td>0.865560</td>\n",
              "      <td>51.758668</td>\n",
              "      <td>97.696922</td>\n",
              "    </tr>\n",
              "    <tr>\n",
              "      <th>min</th>\n",
              "      <td>1.000000</td>\n",
              "      <td>0.000000</td>\n",
              "      <td>0.166700</td>\n",
              "      <td>0.000000</td>\n",
              "      <td>0.000000</td>\n",
              "      <td>0.000000</td>\n",
              "      <td>1.000000</td>\n",
              "    </tr>\n",
              "    <tr>\n",
              "      <th>25%</th>\n",
              "      <td>2.000000</td>\n",
              "      <td>0.000000</td>\n",
              "      <td>21.000000</td>\n",
              "      <td>0.000000</td>\n",
              "      <td>0.000000</td>\n",
              "      <td>7.895800</td>\n",
              "      <td>72.000000</td>\n",
              "    </tr>\n",
              "    <tr>\n",
              "      <th>50%</th>\n",
              "      <td>3.000000</td>\n",
              "      <td>0.000000</td>\n",
              "      <td>28.000000</td>\n",
              "      <td>0.000000</td>\n",
              "      <td>0.000000</td>\n",
              "      <td>14.454200</td>\n",
              "      <td>155.000000</td>\n",
              "    </tr>\n",
              "    <tr>\n",
              "      <th>75%</th>\n",
              "      <td>3.000000</td>\n",
              "      <td>1.000000</td>\n",
              "      <td>39.000000</td>\n",
              "      <td>1.000000</td>\n",
              "      <td>0.000000</td>\n",
              "      <td>31.275000</td>\n",
              "      <td>256.000000</td>\n",
              "    </tr>\n",
              "    <tr>\n",
              "      <th>max</th>\n",
              "      <td>3.000000</td>\n",
              "      <td>1.000000</td>\n",
              "      <td>80.000000</td>\n",
              "      <td>8.000000</td>\n",
              "      <td>9.000000</td>\n",
              "      <td>512.329200</td>\n",
              "      <td>328.000000</td>\n",
              "    </tr>\n",
              "  </tbody>\n",
              "</table>\n",
              "</div>"
            ],
            "text/plain": [
              "            pclass     survived  ...         fare        body\n",
              "count  1309.000000  1309.000000  ...  1308.000000  121.000000\n",
              "mean      2.294882     0.381971  ...    33.295479  160.809917\n",
              "std       0.837836     0.486055  ...    51.758668   97.696922\n",
              "min       1.000000     0.000000  ...     0.000000    1.000000\n",
              "25%       2.000000     0.000000  ...     7.895800   72.000000\n",
              "50%       3.000000     0.000000  ...    14.454200  155.000000\n",
              "75%       3.000000     1.000000  ...    31.275000  256.000000\n",
              "max       3.000000     1.000000  ...   512.329200  328.000000\n",
              "\n",
              "[8 rows x 7 columns]"
            ]
          },
          "metadata": {
            "tags": []
          },
          "execution_count": 5
        }
      ]
    },
    {
      "cell_type": "code",
      "metadata": {
        "colab": {
          "base_uri": "https://localhost:8080/"
        },
        "id": "mjxHsvWLBW7X",
        "outputId": "e157b2b9-9ba6-4e96-bf52-c9ea8ec60d82"
      },
      "source": [
        "# .isnull().sum() 으로 데이터의 누락수를 알 수 있다.\n",
        "df.isnull().sum()"
      ],
      "execution_count": null,
      "outputs": [
        {
          "output_type": "execute_result",
          "data": {
            "text/plain": [
              "pclass          0\n",
              "survived        0\n",
              "name            0\n",
              "sex             0\n",
              "age           263\n",
              "sibsp           0\n",
              "parch           0\n",
              "ticket          0\n",
              "fare            1\n",
              "cabin        1014\n",
              "embarked        2\n",
              "boat          823\n",
              "body         1188\n",
              "home.dest     564\n",
              "dtype: int64"
            ]
          },
          "metadata": {
            "tags": []
          },
          "execution_count": 6
        }
      ]
    },
    {
      "cell_type": "code",
      "metadata": {
        "colab": {
          "base_uri": "https://localhost:8080/"
        },
        "id": "snlpvmhLdf3p",
        "outputId": "167d3917-3685-499e-d94a-7c1795397b10"
      },
      "source": [
        "# value_counts로 원하는 데이터의 값의 수를 확인할 수 있다.\n",
        "# null 또는 NaN 값을 포함하고 싶다면 dropna=False 옵션을 추가해주면 된다.\n",
        "df.sex.value_counts(dropna=False)"
      ],
      "execution_count": null,
      "outputs": [
        {
          "output_type": "execute_result",
          "data": {
            "text/plain": [
              "male      843\n",
              "female    466\n",
              "Name: sex, dtype: int64"
            ]
          },
          "metadata": {
            "tags": []
          },
          "execution_count": 15
        }
      ]
    },
    {
      "cell_type": "code",
      "metadata": {
        "colab": {
          "base_uri": "https://localhost:8080/"
        },
        "id": "5ygtMvkHdkXZ",
        "outputId": "b63c39cf-c4a9-4f9b-f8d5-1a7460b77d0f"
      },
      "source": [
        "# 누락된 데이터를 확인할 수 있다.\n",
        "# 이렇게 범주형이므로 누락된 값을 더미 칼럼으로 표시해 볼 수도 있겠다.\n",
        "df.embarked.value_counts(dropna=False)"
      ],
      "execution_count": null,
      "outputs": [
        {
          "output_type": "execute_result",
          "data": {
            "text/plain": [
              "S      914\n",
              "C      270\n",
              "Q      123\n",
              "NaN      2\n",
              "Name: embarked, dtype: int64"
            ]
          },
          "metadata": {
            "tags": []
          },
          "execution_count": 17
        }
      ]
    },
    {
      "cell_type": "code",
      "metadata": {
        "id": "X40ziuvke01P"
      },
      "source": [
        "name = df.name\n",
        "name.head(3)\n",
        "\n",
        "# pandas의 .drop 메서드는 행 또는 열 제거를 할 때 사용한다.\n",
        "# 승객의 생존여부에 관계가 없는 이름, 티켓, 목적지, 몇 번 보트를 탔는지, 사체번호, 방번호는 제외한다.\n",
        "df = df.drop(\n",
        "    columns=[\n",
        "        'name',\n",
        "        'ticket',\n",
        "        'home.dest',\n",
        "        'boat',\n",
        "        'body',\n",
        "        'cabin'\n",
        "    ]\n",
        ")"
      ],
      "execution_count": null,
      "outputs": []
    },
    {
      "cell_type": "code",
      "metadata": {
        "colab": {
          "base_uri": "https://localhost:8080/"
        },
        "id": "uVCkrBILfMfI",
        "outputId": "35cfc30c-aef2-4c43-d1dd-72012b5e3189"
      },
      "source": [
        "# 현재 데이터프레임의 상태이다.\n",
        "print(df)"
      ],
      "execution_count": null,
      "outputs": [
        {
          "output_type": "stream",
          "text": [
            "      pclass  survived     sex      age  sibsp  parch      fare embarked\n",
            "0          1         1  female  29.0000      0      0  211.3375        S\n",
            "1          1         1    male   0.9167      1      2  151.5500        S\n",
            "2          1         0  female   2.0000      1      2  151.5500        S\n",
            "3          1         0    male  30.0000      1      2  151.5500        S\n",
            "4          1         0  female  25.0000      1      2  151.5500        S\n",
            "...      ...       ...     ...      ...    ...    ...       ...      ...\n",
            "1304       3         0  female  14.5000      1      0   14.4542        C\n",
            "1305       3         0  female      NaN      1      0   14.4542        C\n",
            "1306       3         0    male  26.5000      0      0    7.2250        C\n",
            "1307       3         0    male  27.0000      0      0    7.2250        C\n",
            "1308       3         0    male  29.0000      0      0    7.8750        S\n",
            "\n",
            "[1309 rows x 8 columns]\n"
          ],
          "name": "stdout"
        }
      ]
    },
    {
      "cell_type": "code",
      "metadata": {
        "colab": {
          "base_uri": "https://localhost:8080/"
        },
        "id": "7sz0rE06gTLl",
        "outputId": "4ba40d2b-35de-408e-e639-f75334ffbd23"
      },
      "source": [
        "# get_dummies를 이용하면 역상관관계 또는 완벽환 상관관계, 매우 높거나 낮은 양의 상관관계의 데이터를 나눠준다.\n",
        "df = pd.get_dummies(df)\n",
        "df.columns\n",
        "\n",
        "# sex를 female, male로 분류하고\n",
        "# embarked를 C, Q, S로 분류해준다."
      ],
      "execution_count": null,
      "outputs": [
        {
          "output_type": "execute_result",
          "data": {
            "text/plain": [
              "Index(['pclass', 'survived', 'age', 'sibsp', 'parch', 'fare', 'sex_female',\n",
              "       'sex_male', 'embarked_C', 'embarked_Q', 'embarked_S'],\n",
              "      dtype='object')"
            ]
          },
          "metadata": {
            "tags": []
          },
          "execution_count": 23
        }
      ]
    },
    {
      "cell_type": "code",
      "metadata": {
        "id": "PikcVuL84XZJ"
      },
      "source": [
        "# 위에서 설명했듯이 생존여부를 예측하기 위해서 생존여부 데이터를 drop으로 제거한다.\n",
        "y = df.survived\n",
        "X = df.drop(columns=\"survived\")"
      ],
      "execution_count": null,
      "outputs": []
    },
    {
      "cell_type": "code",
      "metadata": {
        "id": "46AAkwiK5LoJ"
      },
      "source": [
        "### 항상 학습과 검증에는 서로 다른 데이터가 사용되어야 한다.(모델이 얼마나 잘 일반화 되는지 알 수 없기 때문)\n",
        "### 사이킷런으로 준비된 데이터의 30%를 분리하여 검증을 위한 데이터로 빼둘 것이다.\n",
        "### random_state는 무작위 값을 생성하는 시드를 고정한다. 같은 무작위 값이 출력된다.(다른 모델과 성능 비교 시 공정함을 위해)\n",
        "X_train, X_test, y_train, y_test = model_selection.train_test_split(\n",
        "    X, y, test_size = 0.3, random_state=42\n",
        ")"
      ],
      "execution_count": null,
      "outputs": []
    }
  ]
}